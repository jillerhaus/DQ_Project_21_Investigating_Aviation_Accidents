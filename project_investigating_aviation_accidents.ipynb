{
 "cells": [
  {
   "cell_type": "code",
   "execution_count": 1,
   "metadata": {},
   "outputs": [],
   "source": [
    "#imports\n",
    "import csv\n",
    "import pandas as pd\n",
    "import numpy as np\n",
    "import time\n",
    "import matplotlib.pyplot as plt\n",
    "%matplotlib inline\n",
    "import math"
   ]
  },
  {
   "cell_type": "markdown",
   "metadata": {},
   "source": [
    "### Reading in the Data:"
   ]
  },
  {
   "cell_type": "code",
   "execution_count": 2,
   "metadata": {},
   "outputs": [],
   "source": [
    "f = open('AviationData.txt','r')\n",
    "csvreader = csv.reader(f, delimiter = '|')\n",
    "AviationData = list(csvreader)"
   ]
  },
  {
   "cell_type": "code",
   "execution_count": 3,
   "metadata": {},
   "outputs": [
    {
     "data": {
      "text/plain": [
       "['20191123X03127 ',\n",
       " ' Accident ',\n",
       " ' GAA20CA094 ',\n",
       " ' 11/23/2019 ',\n",
       " ' Simsbury, CT ',\n",
       " ' United States ',\n",
       " ' 41.916111 ',\n",
       " ' -72.776945 ',\n",
       " ' 4B9 ',\n",
       " ' Simsbury ',\n",
       " ' Unavailable ',\n",
       " ' Substantial ',\n",
       " ' Airplane ',\n",
       " ' N5776W ',\n",
       " ' Piper ',\n",
       " ' PA28 ',\n",
       " ' No ',\n",
       " ' 1 ',\n",
       " '  ',\n",
       " ' Part 91: General Aviation ',\n",
       " '  ',\n",
       " ' Instructional ',\n",
       " '  ',\n",
       " '  ',\n",
       " '  ',\n",
       " '  ',\n",
       " '  ',\n",
       " '  ',\n",
       " '  ',\n",
       " ' Preliminary ',\n",
       " ' 11/27/2019 ',\n",
       " ' ']"
      ]
     },
     "execution_count": 3,
     "metadata": {},
     "output_type": "execute_result"
    }
   ],
   "source": [
    "AviationData[1]"
   ]
  },
  {
   "cell_type": "code",
   "execution_count": 4,
   "metadata": {},
   "outputs": [],
   "source": [
    "aviation_list = []\n",
    "for row in AviationData[:]:\n",
    "    lst = []\n",
    "    for item in row:\n",
    "        lst.append(item.strip())\n",
    "    aviation_list.append(lst)"
   ]
  },
  {
   "cell_type": "code",
   "execution_count": 5,
   "metadata": {},
   "outputs": [
    {
     "data": {
      "text/plain": [
       "[['Event Id',\n",
       "  'Investigation Type',\n",
       "  'Accident Number',\n",
       "  'Event Date',\n",
       "  'Location',\n",
       "  'Country',\n",
       "  'Latitude',\n",
       "  'Longitude',\n",
       "  'Airport Code',\n",
       "  'Airport Name',\n",
       "  'Injury Severity',\n",
       "  'Aircraft Damage',\n",
       "  'Aircraft Category',\n",
       "  'Registration Number',\n",
       "  'Make',\n",
       "  'Model',\n",
       "  'Amateur Built',\n",
       "  'Number of Engines',\n",
       "  'Engine Type',\n",
       "  'FAR Description',\n",
       "  'Schedule',\n",
       "  'Purpose of Flight',\n",
       "  'Air Carrier',\n",
       "  'Total Fatal Injuries',\n",
       "  'Total Serious Injuries',\n",
       "  'Total Minor Injuries',\n",
       "  'Total Uninjured',\n",
       "  'Weather Condition',\n",
       "  'Broad Phase of Flight',\n",
       "  'Report Status',\n",
       "  'Publication Date',\n",
       "  ''],\n",
       " ['20191123X03127',\n",
       "  'Accident',\n",
       "  'GAA20CA094',\n",
       "  '11/23/2019',\n",
       "  'Simsbury, CT',\n",
       "  'United States',\n",
       "  '41.916111',\n",
       "  '-72.776945',\n",
       "  '4B9',\n",
       "  'Simsbury',\n",
       "  'Unavailable',\n",
       "  'Substantial',\n",
       "  'Airplane',\n",
       "  'N5776W',\n",
       "  'Piper',\n",
       "  'PA28',\n",
       "  'No',\n",
       "  '1',\n",
       "  '',\n",
       "  'Part 91: General Aviation',\n",
       "  '',\n",
       "  'Instructional',\n",
       "  '',\n",
       "  '',\n",
       "  '',\n",
       "  '',\n",
       "  '',\n",
       "  '',\n",
       "  '',\n",
       "  'Preliminary',\n",
       "  '11/27/2019',\n",
       "  ''],\n",
       " ['20191123X40229',\n",
       "  'Accident',\n",
       "  'ERA20LA044',\n",
       "  '11/23/2019',\n",
       "  'Okeechobee, FL',\n",
       "  'United States',\n",
       "  '27.260556',\n",
       "  '-80.847500',\n",
       "  'OBE',\n",
       "  'Okeechobee County',\n",
       "  'Non-Fatal',\n",
       "  'Destroyed',\n",
       "  'Airplane',\n",
       "  'N3315C',\n",
       "  'Beech',\n",
       "  'E35',\n",
       "  'No',\n",
       "  '1',\n",
       "  'Reciprocating',\n",
       "  'Part 91: General Aviation',\n",
       "  '',\n",
       "  'Personal',\n",
       "  '',\n",
       "  '',\n",
       "  '1',\n",
       "  '2',\n",
       "  '',\n",
       "  'VMC',\n",
       "  'TAKEOFF',\n",
       "  'Preliminary',\n",
       "  '11/27/2019',\n",
       "  ''],\n",
       " ['20191120X01106',\n",
       "  'Accident',\n",
       "  'CEN20FA019',\n",
       "  '11/20/2019',\n",
       "  'San Marcos, TX',\n",
       "  'United States',\n",
       "  '29.900000',\n",
       "  '-97.852500',\n",
       "  'KHYI',\n",
       "  'San Marcos',\n",
       "  'Fatal(1)',\n",
       "  'Destroyed',\n",
       "  'Airplane',\n",
       "  'N88855',\n",
       "  'RAYTHEON',\n",
       "  'A36',\n",
       "  'No',\n",
       "  '1',\n",
       "  'Reciprocating',\n",
       "  'Part 91: General Aviation',\n",
       "  '',\n",
       "  'Business',\n",
       "  '',\n",
       "  '1',\n",
       "  '',\n",
       "  '',\n",
       "  '',\n",
       "  'IMC',\n",
       "  'TAKEOFF',\n",
       "  'Preliminary',\n",
       "  '11/26/2019',\n",
       "  ''],\n",
       " ['20191121X85648',\n",
       "  'Accident',\n",
       "  'GAA20CA090',\n",
       "  '11/19/2019',\n",
       "  'Brogue, PA',\n",
       "  'United States',\n",
       "  '39.852222',\n",
       "  '-76.486389',\n",
       "  '9W8',\n",
       "  'Baublitz Commercial',\n",
       "  'Unavailable',\n",
       "  '',\n",
       "  'Airplane',\n",
       "  'N71707',\n",
       "  'Luscombe',\n",
       "  '8',\n",
       "  'No',\n",
       "  '',\n",
       "  '',\n",
       "  'Part 91: General Aviation',\n",
       "  '',\n",
       "  'Personal',\n",
       "  '',\n",
       "  '',\n",
       "  '',\n",
       "  '',\n",
       "  '',\n",
       "  '',\n",
       "  '',\n",
       "  'Preliminary',\n",
       "  '11/26/2019',\n",
       "  '']]"
      ]
     },
     "execution_count": 5,
     "metadata": {},
     "output_type": "execute_result"
    }
   ],
   "source": [
    "aviation_list[:5]"
   ]
  },
  {
   "cell_type": "code",
   "execution_count": 6,
   "metadata": {
    "scrolled": true
   },
   "outputs": [
    {
     "data": {
      "text/plain": [
       "84172"
      ]
     },
     "execution_count": 6,
     "metadata": {},
     "output_type": "execute_result"
    }
   ],
   "source": [
    "len(aviation_list)"
   ]
  },
  {
   "cell_type": "markdown",
   "metadata": {},
   "source": [
    "We will now search for a code: `LAX94LA336`. We are told that this code coule be in any row or column. This means we are supposed to search through every entry one by one. This approach will be very time consuming and ineffective:"
   ]
  },
  {
   "cell_type": "code",
   "execution_count": 7,
   "metadata": {},
   "outputs": [],
   "source": [
    "lax_code = []\n",
    "for entry in aviation_list:\n",
    "    for item in entry:\n",
    "        if 'LAX94LA336' in item:\n",
    "            lax_code.append(entry)"
   ]
  },
  {
   "cell_type": "code",
   "execution_count": 8,
   "metadata": {},
   "outputs": [
    {
     "data": {
      "text/plain": [
       "[['20001218X45447',\n",
       "  'Accident',\n",
       "  'LAX94LA336',\n",
       "  '07/19/1962',\n",
       "  'BRIDGEPORT, CA',\n",
       "  'United States',\n",
       "  '',\n",
       "  '',\n",
       "  '',\n",
       "  '',\n",
       "  'Fatal(4)',\n",
       "  'Destroyed',\n",
       "  '',\n",
       "  'N5069P',\n",
       "  'PIPER',\n",
       "  'PA24-180',\n",
       "  'No',\n",
       "  '1',\n",
       "  'Reciprocating',\n",
       "  '',\n",
       "  '',\n",
       "  'Personal',\n",
       "  '',\n",
       "  '4',\n",
       "  '0',\n",
       "  '0',\n",
       "  '0',\n",
       "  'UNK',\n",
       "  'UNKNOWN',\n",
       "  'Probable Cause',\n",
       "  '09/19/1996',\n",
       "  '']]"
      ]
     },
     "execution_count": 8,
     "metadata": {},
     "output_type": "execute_result"
    }
   ],
   "source": [
    "lax_code"
   ]
  },
  {
   "cell_type": "markdown",
   "metadata": {},
   "source": [
    "Even though this approach was incredibly cumbersome, the task was completed in very short time. But this algorithm was exponential time. This means in larger DataSets this search could take up a considerable ammount of time and would be very inefficient. Because the algorithm has to search through each item in each row, it has to compute $O(n^2)$ operations. This is very inefficient."
   ]
  },
  {
   "cell_type": "markdown",
   "metadata": {},
   "source": [
    "## Writing a linear time algorithm:\n",
    "\n",
    "Even though the intuitive thing to do would be to use search the entire row, this would just mean, that python still has to search each individual element in each row. We can reduce the ammount of computations to linear time by just searching the Accident Number, where we know that the LAX code should be found. These are listed under index `2` in each row"
   ]
  },
  {
   "cell_type": "code",
   "execution_count": 9,
   "metadata": {},
   "outputs": [
    {
     "data": {
      "text/plain": [
       "[['20001218X45447',\n",
       "  'Accident',\n",
       "  'LAX94LA336',\n",
       "  '07/19/1962',\n",
       "  'BRIDGEPORT, CA',\n",
       "  'United States',\n",
       "  '',\n",
       "  '',\n",
       "  '',\n",
       "  '',\n",
       "  'Fatal(4)',\n",
       "  'Destroyed',\n",
       "  '',\n",
       "  'N5069P',\n",
       "  'PIPER',\n",
       "  'PA24-180',\n",
       "  'No',\n",
       "  '1',\n",
       "  'Reciprocating',\n",
       "  '',\n",
       "  '',\n",
       "  'Personal',\n",
       "  '',\n",
       "  '4',\n",
       "  '0',\n",
       "  '0',\n",
       "  '0',\n",
       "  'UNK',\n",
       "  'UNKNOWN',\n",
       "  'Probable Cause',\n",
       "  '09/19/1996',\n",
       "  '']]"
      ]
     },
     "execution_count": 9,
     "metadata": {},
     "output_type": "execute_result"
    }
   ],
   "source": [
    "lax_code = []\n",
    "for row in aviation_list:\n",
    "    if 'LAX94LA336' in row[2]:\n",
    "        lax_code.append(row)\n",
    "        \n",
    "lax_code"
   ]
  },
  {
   "cell_type": "markdown",
   "metadata": {},
   "source": [
    "The linear time algorithm should just be faster than the exponential time one. "
   ]
  },
  {
   "cell_type": "markdown",
   "metadata": {},
   "source": [
    "## Logarithmic Time Algorithm\n",
    "\n",
    "In the next step a logarithmic time algorithm will be constructed. In order to do this, the dataset will need to be ordered by the column we are going to search for. This is a very time consuming task and we will have to allocate additional hard drive space to the newly constructed dataset. But this is a one-time investment if we keep our newly ordered dataset and don't delete it after each search. So in cases where we are searching for information in the same column over and over again, this can be worth it. This will first be done using Pandas and later two different sorting algorithms will be constructed and tested for expense"
   ]
  },
  {
   "cell_type": "code",
   "execution_count": 10,
   "metadata": {
    "scrolled": true
   },
   "outputs": [
    {
     "data": {
      "text/html": [
       "<div>\n",
       "<style scoped>\n",
       "    .dataframe tbody tr th:only-of-type {\n",
       "        vertical-align: middle;\n",
       "    }\n",
       "\n",
       "    .dataframe tbody tr th {\n",
       "        vertical-align: top;\n",
       "    }\n",
       "\n",
       "    .dataframe thead th {\n",
       "        text-align: right;\n",
       "    }\n",
       "</style>\n",
       "<table border=\"1\" class=\"dataframe\">\n",
       "  <thead>\n",
       "    <tr style=\"text-align: right;\">\n",
       "      <th></th>\n",
       "      <th>Event Id</th>\n",
       "      <th>Investigation Type</th>\n",
       "      <th>Accident Number</th>\n",
       "      <th>Event Date</th>\n",
       "      <th>Location</th>\n",
       "      <th>Country</th>\n",
       "      <th>Latitude</th>\n",
       "      <th>Longitude</th>\n",
       "      <th>Airport Code</th>\n",
       "      <th>Airport Name</th>\n",
       "      <th>...</th>\n",
       "      <th>Air Carrier</th>\n",
       "      <th>Total Fatal Injuries</th>\n",
       "      <th>Total Serious Injuries</th>\n",
       "      <th>Total Minor Injuries</th>\n",
       "      <th>Total Uninjured</th>\n",
       "      <th>Weather Condition</th>\n",
       "      <th>Broad Phase of Flight</th>\n",
       "      <th>Report Status</th>\n",
       "      <th>Publication Date</th>\n",
       "      <th></th>\n",
       "    </tr>\n",
       "  </thead>\n",
       "  <tbody>\n",
       "    <tr>\n",
       "      <th>36606</th>\n",
       "      <td>20001212X20184</td>\n",
       "      <td>Accident</td>\n",
       "      <td>ANC00FA018</td>\n",
       "      <td>12/07/1999</td>\n",
       "      <td>BETHEL, AK</td>\n",
       "      <td>United States</td>\n",
       "      <td></td>\n",
       "      <td></td>\n",
       "      <td></td>\n",
       "      <td></td>\n",
       "      <td>...</td>\n",
       "      <td>GRANT AVIATION, INC.</td>\n",
       "      <td>6</td>\n",
       "      <td>0</td>\n",
       "      <td>0</td>\n",
       "      <td>0</td>\n",
       "      <td>IMC</td>\n",
       "      <td>CRUISE</td>\n",
       "      <td>Probable Cause</td>\n",
       "      <td>04/18/2001</td>\n",
       "      <td></td>\n",
       "    </tr>\n",
       "    <tr>\n",
       "      <th>36371</th>\n",
       "      <td>20001212X20436</td>\n",
       "      <td>Accident</td>\n",
       "      <td>ANC00FA024</td>\n",
       "      <td>02/05/2000</td>\n",
       "      <td>ILIAMNA, AK</td>\n",
       "      <td>United States</td>\n",
       "      <td></td>\n",
       "      <td></td>\n",
       "      <td></td>\n",
       "      <td></td>\n",
       "      <td>...</td>\n",
       "      <td></td>\n",
       "      <td>6</td>\n",
       "      <td>0</td>\n",
       "      <td>0</td>\n",
       "      <td>0</td>\n",
       "      <td>UNK</td>\n",
       "      <td>CRUISE</td>\n",
       "      <td>Probable Cause</td>\n",
       "      <td>07/17/2001</td>\n",
       "      <td></td>\n",
       "    </tr>\n",
       "    <tr>\n",
       "      <th>35884</th>\n",
       "      <td>20001212X20930</td>\n",
       "      <td>Accident</td>\n",
       "      <td>ANC00FA052</td>\n",
       "      <td>05/01/2000</td>\n",
       "      <td>KOTZEBUE, AK</td>\n",
       "      <td>United States</td>\n",
       "      <td></td>\n",
       "      <td></td>\n",
       "      <td></td>\n",
       "      <td></td>\n",
       "      <td>...</td>\n",
       "      <td></td>\n",
       "      <td>1</td>\n",
       "      <td>0</td>\n",
       "      <td>0</td>\n",
       "      <td>0</td>\n",
       "      <td>IMC</td>\n",
       "      <td>CRUISE</td>\n",
       "      <td>Probable Cause</td>\n",
       "      <td>07/10/2001</td>\n",
       "      <td></td>\n",
       "    </tr>\n",
       "    <tr>\n",
       "      <th>35834</th>\n",
       "      <td>20001212X20931</td>\n",
       "      <td>Accident</td>\n",
       "      <td>ANC00FA056</td>\n",
       "      <td>05/09/2000</td>\n",
       "      <td>ANCHORAGE, AK</td>\n",
       "      <td>United States</td>\n",
       "      <td></td>\n",
       "      <td></td>\n",
       "      <td>MRI</td>\n",
       "      <td>MERRILL FIELD</td>\n",
       "      <td>...</td>\n",
       "      <td></td>\n",
       "      <td>0</td>\n",
       "      <td>0</td>\n",
       "      <td>0</td>\n",
       "      <td>2</td>\n",
       "      <td>VMC</td>\n",
       "      <td>DESCENT</td>\n",
       "      <td>Probable Cause</td>\n",
       "      <td>07/10/2001</td>\n",
       "      <td></td>\n",
       "    </tr>\n",
       "    <tr>\n",
       "      <th>35529</th>\n",
       "      <td>20001212X21133</td>\n",
       "      <td>Accident</td>\n",
       "      <td>ANC00FA076</td>\n",
       "      <td>06/22/2000</td>\n",
       "      <td>TUNTUTULIAK, AK</td>\n",
       "      <td>United States</td>\n",
       "      <td></td>\n",
       "      <td></td>\n",
       "      <td>AK61</td>\n",
       "      <td>TUNTUTULIAK</td>\n",
       "      <td>...</td>\n",
       "      <td></td>\n",
       "      <td>1</td>\n",
       "      <td>1</td>\n",
       "      <td>0</td>\n",
       "      <td>0</td>\n",
       "      <td>VMC</td>\n",
       "      <td>TAKEOFF</td>\n",
       "      <td>Probable Cause</td>\n",
       "      <td>07/10/2001</td>\n",
       "      <td></td>\n",
       "    </tr>\n",
       "    <tr>\n",
       "      <th>...</th>\n",
       "      <td>...</td>\n",
       "      <td>...</td>\n",
       "      <td>...</td>\n",
       "      <td>...</td>\n",
       "      <td>...</td>\n",
       "      <td>...</td>\n",
       "      <td>...</td>\n",
       "      <td>...</td>\n",
       "      <td>...</td>\n",
       "      <td>...</td>\n",
       "      <td>...</td>\n",
       "      <td>...</td>\n",
       "      <td>...</td>\n",
       "      <td>...</td>\n",
       "      <td>...</td>\n",
       "      <td>...</td>\n",
       "      <td>...</td>\n",
       "      <td>...</td>\n",
       "      <td>...</td>\n",
       "      <td>...</td>\n",
       "      <td>...</td>\n",
       "    </tr>\n",
       "    <tr>\n",
       "      <th>143</th>\n",
       "      <td>20191007X02421</td>\n",
       "      <td>Accident</td>\n",
       "      <td>WPR20WA003</td>\n",
       "      <td>10/06/2019</td>\n",
       "      <td>Sultanpur, India</td>\n",
       "      <td>India</td>\n",
       "      <td></td>\n",
       "      <td></td>\n",
       "      <td></td>\n",
       "      <td></td>\n",
       "      <td>...</td>\n",
       "      <td></td>\n",
       "      <td>2</td>\n",
       "      <td></td>\n",
       "      <td></td>\n",
       "      <td></td>\n",
       "      <td></td>\n",
       "      <td></td>\n",
       "      <td>Foreign</td>\n",
       "      <td></td>\n",
       "      <td></td>\n",
       "    </tr>\n",
       "    <tr>\n",
       "      <th>142</th>\n",
       "      <td>20191009X41754</td>\n",
       "      <td>Accident</td>\n",
       "      <td>WPR20WA006</td>\n",
       "      <td>10/06/2019</td>\n",
       "      <td>Huhudi, South Africa</td>\n",
       "      <td>South Africa</td>\n",
       "      <td></td>\n",
       "      <td></td>\n",
       "      <td></td>\n",
       "      <td></td>\n",
       "      <td>...</td>\n",
       "      <td></td>\n",
       "      <td>1</td>\n",
       "      <td>1</td>\n",
       "      <td></td>\n",
       "      <td></td>\n",
       "      <td></td>\n",
       "      <td>UNKNOWN</td>\n",
       "      <td>Foreign</td>\n",
       "      <td></td>\n",
       "      <td></td>\n",
       "    </tr>\n",
       "    <tr>\n",
       "      <th>124</th>\n",
       "      <td>20191022X82728</td>\n",
       "      <td>Accident</td>\n",
       "      <td>WPR20WA010</td>\n",
       "      <td>10/11/2019</td>\n",
       "      <td>Port Said City, Egypt</td>\n",
       "      <td>Egypt</td>\n",
       "      <td>32.956944</td>\n",
       "      <td>32.303889</td>\n",
       "      <td></td>\n",
       "      <td></td>\n",
       "      <td>...</td>\n",
       "      <td></td>\n",
       "      <td></td>\n",
       "      <td></td>\n",
       "      <td></td>\n",
       "      <td>5</td>\n",
       "      <td></td>\n",
       "      <td>MANEUVERING</td>\n",
       "      <td>Foreign</td>\n",
       "      <td></td>\n",
       "      <td></td>\n",
       "    </tr>\n",
       "    <tr>\n",
       "      <th>106</th>\n",
       "      <td>20191022X83614</td>\n",
       "      <td>Accident</td>\n",
       "      <td>WPR20WA011</td>\n",
       "      <td>10/15/2019</td>\n",
       "      <td>Singapore, Singapore</td>\n",
       "      <td>Singapore</td>\n",
       "      <td></td>\n",
       "      <td></td>\n",
       "      <td></td>\n",
       "      <td></td>\n",
       "      <td>...</td>\n",
       "      <td></td>\n",
       "      <td></td>\n",
       "      <td></td>\n",
       "      <td></td>\n",
       "      <td>1</td>\n",
       "      <td></td>\n",
       "      <td>TAKEOFF</td>\n",
       "      <td>Foreign</td>\n",
       "      <td></td>\n",
       "      <td></td>\n",
       "    </tr>\n",
       "    <tr>\n",
       "      <th>13</th>\n",
       "      <td>20191112X55053</td>\n",
       "      <td>Accident</td>\n",
       "      <td>WPR20WA021</td>\n",
       "      <td>11/11/2019</td>\n",
       "      <td>Tunis, Tunisia</td>\n",
       "      <td>Tunisia</td>\n",
       "      <td>36.886944</td>\n",
       "      <td>10.271667</td>\n",
       "      <td></td>\n",
       "      <td></td>\n",
       "      <td>...</td>\n",
       "      <td></td>\n",
       "      <td>1</td>\n",
       "      <td></td>\n",
       "      <td></td>\n",
       "      <td></td>\n",
       "      <td></td>\n",
       "      <td>CRUISE</td>\n",
       "      <td>Foreign</td>\n",
       "      <td></td>\n",
       "      <td></td>\n",
       "    </tr>\n",
       "  </tbody>\n",
       "</table>\n",
       "<p>84171 rows × 32 columns</p>\n",
       "</div>"
      ],
      "text/plain": [
       "             Event Id Investigation Type Accident Number  Event Date  \\\n",
       "36606  20001212X20184           Accident      ANC00FA018  12/07/1999   \n",
       "36371  20001212X20436           Accident      ANC00FA024  02/05/2000   \n",
       "35884  20001212X20930           Accident      ANC00FA052  05/01/2000   \n",
       "35834  20001212X20931           Accident      ANC00FA056  05/09/2000   \n",
       "35529  20001212X21133           Accident      ANC00FA076  06/22/2000   \n",
       "...               ...                ...             ...         ...   \n",
       "143    20191007X02421           Accident      WPR20WA003  10/06/2019   \n",
       "142    20191009X41754           Accident      WPR20WA006  10/06/2019   \n",
       "124    20191022X82728           Accident      WPR20WA010  10/11/2019   \n",
       "106    20191022X83614           Accident      WPR20WA011  10/15/2019   \n",
       "13     20191112X55053           Accident      WPR20WA021  11/11/2019   \n",
       "\n",
       "                    Location        Country   Latitude  Longitude  \\\n",
       "36606             BETHEL, AK  United States                         \n",
       "36371            ILIAMNA, AK  United States                         \n",
       "35884           KOTZEBUE, AK  United States                         \n",
       "35834          ANCHORAGE, AK  United States                         \n",
       "35529        TUNTUTULIAK, AK  United States                         \n",
       "...                      ...            ...        ...        ...   \n",
       "143         Sultanpur, India          India                         \n",
       "142     Huhudi, South Africa   South Africa                         \n",
       "124    Port Said City, Egypt          Egypt  32.956944  32.303889   \n",
       "106     Singapore, Singapore      Singapore                         \n",
       "13            Tunis, Tunisia        Tunisia  36.886944  10.271667   \n",
       "\n",
       "      Airport Code   Airport Name  ...           Air Carrier  \\\n",
       "36606                              ...  GRANT AVIATION, INC.   \n",
       "36371                              ...                         \n",
       "35884                              ...                         \n",
       "35834          MRI  MERRILL FIELD  ...                         \n",
       "35529         AK61    TUNTUTULIAK  ...                         \n",
       "...            ...            ...  ...                   ...   \n",
       "143                                ...                         \n",
       "142                                ...                         \n",
       "124                                ...                         \n",
       "106                                ...                         \n",
       "13                                 ...                         \n",
       "\n",
       "      Total Fatal Injuries Total Serious Injuries Total Minor Injuries  \\\n",
       "36606                    6                      0                    0   \n",
       "36371                    6                      0                    0   \n",
       "35884                    1                      0                    0   \n",
       "35834                    0                      0                    0   \n",
       "35529                    1                      1                    0   \n",
       "...                    ...                    ...                  ...   \n",
       "143                      2                                               \n",
       "142                      1                      1                        \n",
       "124                                                                      \n",
       "106                                                                      \n",
       "13                       1                                               \n",
       "\n",
       "      Total Uninjured Weather Condition Broad Phase of Flight   Report Status  \\\n",
       "36606               0               IMC                CRUISE  Probable Cause   \n",
       "36371               0               UNK                CRUISE  Probable Cause   \n",
       "35884               0               IMC                CRUISE  Probable Cause   \n",
       "35834               2               VMC               DESCENT  Probable Cause   \n",
       "35529               0               VMC               TAKEOFF  Probable Cause   \n",
       "...               ...               ...                   ...             ...   \n",
       "143                                                                   Foreign   \n",
       "142                                                   UNKNOWN         Foreign   \n",
       "124                 5                             MANEUVERING         Foreign   \n",
       "106                 1                                 TAKEOFF         Foreign   \n",
       "13                                                     CRUISE         Foreign   \n",
       "\n",
       "      Publication Date     \n",
       "36606       04/18/2001     \n",
       "36371       07/17/2001     \n",
       "35884       07/10/2001     \n",
       "35834       07/10/2001     \n",
       "35529       07/10/2001     \n",
       "...                ... ..  \n",
       "143                        \n",
       "142                        \n",
       "124                        \n",
       "106                        \n",
       "13                         \n",
       "\n",
       "[84171 rows x 32 columns]"
      ]
     },
     "execution_count": 10,
     "metadata": {},
     "output_type": "execute_result"
    }
   ],
   "source": [
    "acc_sort = pd.DataFrame(aviation_list[1:], columns = aviation_list[0]).sort_values('Accident Number')\n",
    "acc_sort"
   ]
  },
  {
   "cell_type": "markdown",
   "metadata": {},
   "source": [
    "## The sorting Algorithm:\n",
    "\n",
    "First an inefficient sorting algorithm will be made:\n",
    "first an empty list `newer_sort` is created. The sorted items will be added to this list in the correct order\n",
    "\n",
    "This algorithm will look at each item in each list in `aviation_list`. It will then:\n",
    "\n",
    "1. check if the list of sorted items is empty and if so append the item\n",
    "2. check if the item is larger than the largest item currently in the list and append if so\n",
    "3. check if the item is smaller than the min in the list and add item at the beginning if so\n",
    "4. if none of these apply, the item has to be added somewhere in between. another algorithm is then used that looks through every single item in the sorted list until it finds two adjacent items where one is smaller than the item to add and one is larger. The new item is then added in between these two\n",
    "\n",
    "The whole function is also timed, to be able to evaluate its efficiency."
   ]
  },
  {
   "cell_type": "code",
   "execution_count": 11,
   "metadata": {},
   "outputs": [],
   "source": [
    "def inef_sort(nr):\n",
    "    aviation_list_copy = aviation_list\n",
    "    t0 = time.time()    \n",
    "    newer_sort = []\n",
    "    for item in aviation_list_copy[:nr]:\n",
    "        # for first item\n",
    "        if len(newer_sort)==0:\n",
    "            newer_sort.append(item)\n",
    "        # for items higher or lower than the maximum, minimum in list\n",
    "        elif item[2] > newer_sort[-1][2]:\n",
    "            newer_sort.append(item)\n",
    "        elif item[2] < newer_sort[0][2]:\n",
    "            newer_sort.insert(0, item)\n",
    "        # All items in the middle\n",
    "        else:\n",
    "            i = 0\n",
    "            for entry in newer_sort:\n",
    "                if item[2] > entry[2]:\n",
    "                    i += 1\n",
    "            newer_sort.insert(i, item)\n",
    "#             print('middle')\n",
    "#             print(newer_sort)\n",
    "    dt = time.time()-t0\n",
    "    return dt, newer_sort"
   ]
  },
  {
   "cell_type": "markdown",
   "metadata": {},
   "source": [
    "This algorithm is very inefficient, for every newly added item it checks every item in the list, that is lower than the item we added. This means that the longer the list the higher the time. We would expect this algorithm to be exponential time"
   ]
  },
  {
   "cell_type": "code",
   "execution_count": 12,
   "metadata": {},
   "outputs": [
    {
     "name": "stdout",
     "output_type": "stream",
     "text": [
      "0.18480968475341797\n"
     ]
    }
   ],
   "source": [
    "print(inef_sort(2000)[0])"
   ]
  },
  {
   "cell_type": "code",
   "execution_count": 13,
   "metadata": {},
   "outputs": [],
   "source": [
    "ns1 = []\n",
    "ts1 = []\n",
    "for item in [10,20,30,40,50,100,500,1000, 2000, 3000, 4000, 5000, 10000]:\n",
    "    ns1.append(item)\n",
    "    ts1.append(inef_sort(item)[0])\n",
    "    "
   ]
  },
  {
   "cell_type": "code",
   "execution_count": 14,
   "metadata": {},
   "outputs": [
    {
     "name": "stdout",
     "output_type": "stream",
     "text": [
      "[10, 20, 30, 40, 50, 100, 500, 1000, 2000, 3000, 4000, 5000, 10000]\n",
      "[0.0, 0.0, 0.0, 0.0, 0.0, 0.0, 0.011987447738647461, 0.04295468330383301, 0.17382192611694336, 0.40458035469055176, 0.7592165470123291, 1.2297320365905762, 6.210590839385986]\n"
     ]
    }
   ],
   "source": [
    "print(ns1)\n",
    "print(ts1)"
   ]
  },
  {
   "cell_type": "code",
   "execution_count": 15,
   "metadata": {
    "scrolled": true
   },
   "outputs": [
    {
     "data": {
      "text/plain": [
       "[<matplotlib.lines.Line2D at 0x2420beb3e80>]"
      ]
     },
     "execution_count": 15,
     "metadata": {},
     "output_type": "execute_result"
    },
    {
     "data": {
      "image/png": "[encoded data removed]",
      "text/plain": [
       "<Figure size 432x288 with 1 Axes>"
      ]
     },
     "metadata": {
      "needs_background": "light"
     },
     "output_type": "display_data"
    }
   ],
   "source": [
    "plt.plot(ns1,ts1)"
   ]
  },
  {
   "cell_type": "markdown",
   "metadata": {},
   "source": [
    "so it looks like the current sorting algorithm is exponential time. This is obviously not ideal. We can probably replace the inner loop that looks for the place to put the current item, which is linear time with one that is logarithmic time. This should improve our performance significantly."
   ]
  },
  {
   "cell_type": "markdown",
   "metadata": {},
   "source": [
    "## More Efficient Sorting Algorithm:\n",
    "\n",
    "This new algorithm will be added to our sorting function for the case where the new item needs to be added where it has two neighbors.\n",
    "\n",
    "It will:\n",
    "\n",
    "1. Find the middle of our list of already sorted items\n",
    "2. Check whether the item in the middle of the list is larger or smaller than our new item\n",
    "3. In either case find out if the middle of the list is the right place to put the item and insert accordingly and end the function\n",
    "4. If the item in the middle of our sorted list is larger than our new item, the algorithm will cut out all items from the list larger than the middle index and call the function again with the newly cut list. The recursion will continue until the right place for our new item is found\n",
    "5. If the item in the middle is smaller than our new item, the algorithm will cut our the upper half of the list and call itself again. The algorithm will reccur until thr right place for our new item is found\n",
    "\n",
    "This new sorting algorithm should improve the efficiency of our sorting algorithm"
   ]
  },
  {
   "cell_type": "code",
   "execution_count": 16,
   "metadata": {},
   "outputs": [
    {
     "data": {
      "text/plain": [
       "[0, 1, 2, 3, 4, 5, 6, 7, 8, 9, 10, 11, 12, 13, 13.7, 14]"
      ]
     },
     "execution_count": 16,
     "metadata": {},
     "output_type": "execute_result"
    }
   ],
   "source": [
    "lst = list(range(15))\n",
    "n = 5.5\n",
    "lower = 0\n",
    "upper = len(lst)\n",
    "def find_place(n, lower, upper):\n",
    "    ind = math.floor((upper + lower) / 2)\n",
    "    if n < lst[ind]:\n",
    "        if n > lst[ind-1]:\n",
    "            lst.insert(ind, n)\n",
    "        else:\n",
    "            upper = ind\n",
    "            find_place(n, lower, upper)\n",
    "    if n > lst[ind]:\n",
    "        if n < lst[ind + 1]:\n",
    "            lst.insert(ind + 1, n)\n",
    "        else:\n",
    "            lower = ind\n",
    "            find_place(n, lower, upper)\n",
    "find_place(13.7, 0 , len(lst))\n",
    "lst"
   ]
  },
  {
   "cell_type": "markdown",
   "metadata": {},
   "source": [
    "We need to slightly modify this sorting algorithm, because it uses the items of a list to sort instead of a subitem of an item, which is what we need if we want to sort our list by the accident number that has index"
   ]
  },
  {
   "cell_type": "code",
   "execution_count": 17,
   "metadata": {},
   "outputs": [],
   "source": [
    "def find_place(lst, n, lower, upper):\n",
    "    ind = math.floor((upper + lower) / 2)\n",
    "    if n[2] < lst[ind][2]:\n",
    "        if n[2] > lst[ind-1][2]:\n",
    "            lst.insert(ind, n)\n",
    "        else:\n",
    "            upper = ind\n",
    "            find_place(lst, n, lower, upper)\n",
    "    if n[2] > lst[ind][2]:\n",
    "        if n[2] < lst[ind + 1][2]:\n",
    "            lst.insert(ind + 1, n)\n",
    "        else:\n",
    "            lower = ind\n",
    "            find_place(lst, n, lower, upper)"
   ]
  },
  {
   "cell_type": "markdown",
   "metadata": {},
   "source": [
    "This sorting algorithm is logarithmic time and should improve the performance of the complete sorting algorithm."
   ]
  },
  {
   "cell_type": "code",
   "execution_count": 18,
   "metadata": {},
   "outputs": [],
   "source": [
    "np.random.seed(0)\n",
    "random_list = []\n",
    "# for ind in inds:\n",
    "#     random_list.append(aviation_list[ind][2])\n",
    "def more_ef_sort(nr):\n",
    "    aviation_list_copy = aviation_list\n",
    "    t0 = time.time()    \n",
    "    newer_sort = []\n",
    "    for item in aviation_list_copy[:nr]:\n",
    "        if len(newer_sort)==0:\n",
    "            newer_sort.append(item)\n",
    "#             print('first entry')\n",
    "#             print(newer_sort)\n",
    "        elif item[2] > newer_sort[-1][2]:\n",
    "            newer_sort.append(item)\n",
    "#             print('highest')\n",
    "#             print(newer_sort)\n",
    "        elif item[2] < newer_sort[0][2]:\n",
    "            newer_sort.insert(0, item)\n",
    "#             print('lowest')\n",
    "#             print(newer_sort)\n",
    "        else:\n",
    "            find_place(newer_sort, item, 0, len(newer_sort))\n",
    "    dt = time.time()-t0\n",
    "    return dt, newer_sort"
   ]
  },
  {
   "cell_type": "code",
   "execution_count": 19,
   "metadata": {},
   "outputs": [],
   "source": [
    "ns2 = []\n",
    "ts2 = []\n",
    "for item in [10,20,30,40,50,100,500,1000, 2000, 3000, 4000, 5000, 10000, 20000, 30000, 40000, 50000, len(aviation_list)]:\n",
    "    ns2.append(item)\n",
    "    ts2.append(more_ef_sort(item)[0])\n",
    "    "
   ]
  },
  {
   "cell_type": "code",
   "execution_count": 20,
   "metadata": {},
   "outputs": [
    {
     "data": {
      "image/png": "[encoded data removed]",
      "text/plain": [
       "<Figure size 432x288 with 1 Axes>"
      ]
     },
     "metadata": {
      "needs_background": "light"
     },
     "output_type": "display_data"
    }
   ],
   "source": [
    "plt.plot(ns1,ts1, label = 'old algorithm')\n",
    "plt.plot(ns2,ts2, label = 'new algorithm')\n",
    "plt.legend()\n",
    "plt.xlabel('Sorted Items')\n",
    "plt.ylabel('Sorting Time')\n",
    "plt.show()"
   ]
  },
  {
   "cell_type": "markdown",
   "metadata": {},
   "source": [
    "let's see if the algorithms do the same thing"
   ]
  },
  {
   "cell_type": "code",
   "execution_count": 39,
   "metadata": {},
   "outputs": [
    {
     "name": "stdout",
     "output_type": "stream",
     "text": [
      "6.0387678146362305\n"
     ]
    }
   ],
   "source": [
    "import pandas as pd\n",
    "print(inef_sort(10000)[0])"
   ]
  },
  {
   "cell_type": "code",
   "execution_count": 21,
   "metadata": {},
   "outputs": [
    {
     "data": {
      "text/plain": [
       "True"
      ]
     },
     "execution_count": 21,
     "metadata": {},
     "output_type": "execute_result"
    }
   ],
   "source": [
    "inef_sort(10000)[1] == more_ef_sort(10000)[1]"
   ]
  },
  {
   "cell_type": "markdown",
   "metadata": {},
   "source": [
    "The performance improvement of this algorithm over the original is astonishing. We could make it even faster, but for the current project with only 85000 rows, this is very good."
   ]
  },
  {
   "cell_type": "markdown",
   "metadata": {},
   "source": [
    "## Logarithmic Search Algorithm\n",
    "\n",
    "As discussed earlier, the problem with a logarithmic search algorithm is that the data needs to be ordered in respect to the column we are searching, but with the new sorting algorithm this task is actually not very expensive. We can now write a searching algorithm analogously to the one we used in the sorting algorithm."
   ]
  },
  {
   "cell_type": "code",
   "execution_count": 22,
   "metadata": {},
   "outputs": [
    {
     "data": {
      "text/plain": [
       "[['20001212X20184',\n",
       "  'Accident',\n",
       "  'ANC00FA018',\n",
       "  '12/07/1999',\n",
       "  'BETHEL, AK',\n",
       "  'United States',\n",
       "  '',\n",
       "  '',\n",
       "  '',\n",
       "  '',\n",
       "  'Fatal(6)',\n",
       "  'Destroyed',\n",
       "  '',\n",
       "  'N1747U',\n",
       "  'Cessna',\n",
       "  '207',\n",
       "  'No',\n",
       "  '1',\n",
       "  'Reciprocating',\n",
       "  '',\n",
       "  'SCHD',\n",
       "  'Unknown',\n",
       "  'GRANT AVIATION, INC.',\n",
       "  '6',\n",
       "  '0',\n",
       "  '0',\n",
       "  '0',\n",
       "  'IMC',\n",
       "  'CRUISE',\n",
       "  'Probable Cause',\n",
       "  '04/18/2001',\n",
       "  ''],\n",
       " ['20001212X20436',\n",
       "  'Accident',\n",
       "  'ANC00FA024',\n",
       "  '02/05/2000',\n",
       "  'ILIAMNA, AK',\n",
       "  'United States',\n",
       "  '',\n",
       "  '',\n",
       "  '',\n",
       "  '',\n",
       "  'Fatal(6)',\n",
       "  'Destroyed',\n",
       "  '',\n",
       "  'N756HG',\n",
       "  'Cessna',\n",
       "  'U206G',\n",
       "  'No',\n",
       "  '1',\n",
       "  'Reciprocating',\n",
       "  '',\n",
       "  'NSCH',\n",
       "  'Unknown',\n",
       "  '',\n",
       "  '6',\n",
       "  '0',\n",
       "  '0',\n",
       "  '0',\n",
       "  'UNK',\n",
       "  'CRUISE',\n",
       "  'Probable Cause',\n",
       "  '07/17/2001',\n",
       "  ''],\n",
       " ['20001212X20930',\n",
       "  'Accident',\n",
       "  'ANC00FA052',\n",
       "  '05/01/2000',\n",
       "  'KOTZEBUE, AK',\n",
       "  'United States',\n",
       "  '',\n",
       "  '',\n",
       "  '',\n",
       "  '',\n",
       "  'Fatal(1)',\n",
       "  'Destroyed',\n",
       "  '',\n",
       "  'N3935Z',\n",
       "  'Piper',\n",
       "  'PA-18',\n",
       "  'No',\n",
       "  '1',\n",
       "  'Reciprocating',\n",
       "  '',\n",
       "  '',\n",
       "  'Personal',\n",
       "  '',\n",
       "  '1',\n",
       "  '0',\n",
       "  '0',\n",
       "  '0',\n",
       "  'IMC',\n",
       "  'CRUISE',\n",
       "  'Probable Cause',\n",
       "  '07/10/2001',\n",
       "  ''],\n",
       " ['20001212X20931',\n",
       "  'Accident',\n",
       "  'ANC00FA056',\n",
       "  '05/09/2000',\n",
       "  'ANCHORAGE, AK',\n",
       "  'United States',\n",
       "  '',\n",
       "  '',\n",
       "  'MRI',\n",
       "  'MERRILL FIELD',\n",
       "  'Non-Fatal',\n",
       "  'Substantial',\n",
       "  '',\n",
       "  'N6951R',\n",
       "  'Beech',\n",
       "  'B24R',\n",
       "  'No',\n",
       "  '1',\n",
       "  'Reciprocating',\n",
       "  '',\n",
       "  '',\n",
       "  'Instructional',\n",
       "  '',\n",
       "  '0',\n",
       "  '0',\n",
       "  '0',\n",
       "  '2',\n",
       "  'VMC',\n",
       "  'DESCENT',\n",
       "  'Probable Cause',\n",
       "  '07/10/2001',\n",
       "  ''],\n",
       " ['20001212X21133',\n",
       "  'Accident',\n",
       "  'ANC00FA076',\n",
       "  '06/22/2000',\n",
       "  'TUNTUTULIAK, AK',\n",
       "  'United States',\n",
       "  '',\n",
       "  '',\n",
       "  'AK61',\n",
       "  'TUNTUTULIAK',\n",
       "  'Fatal(1)',\n",
       "  'Destroyed',\n",
       "  '',\n",
       "  'N4762D',\n",
       "  'Cessna',\n",
       "  '172N',\n",
       "  'No',\n",
       "  '1',\n",
       "  'Reciprocating',\n",
       "  '',\n",
       "  '',\n",
       "  'Positioning',\n",
       "  '',\n",
       "  '1',\n",
       "  '1',\n",
       "  '0',\n",
       "  '0',\n",
       "  'VMC',\n",
       "  'TAKEOFF',\n",
       "  'Probable Cause',\n",
       "  '07/10/2001',\n",
       "  '']]"
      ]
     },
     "execution_count": 22,
     "metadata": {},
     "output_type": "execute_result"
    }
   ],
   "source": [
    "sorted_avlst = more_ef_sort(len(aviation_list))[1]\n",
    "sorted_avlst[:5]"
   ]
  },
  {
   "cell_type": "code",
   "execution_count": 23,
   "metadata": {},
   "outputs": [
    {
     "data": {
      "text/plain": [
       "[['20001218X45447',\n",
       "  'Accident',\n",
       "  'LAX94LA336',\n",
       "  '07/19/1962',\n",
       "  'BRIDGEPORT, CA',\n",
       "  'United States',\n",
       "  '',\n",
       "  '',\n",
       "  '',\n",
       "  '',\n",
       "  'Fatal(4)',\n",
       "  'Destroyed',\n",
       "  '',\n",
       "  'N5069P',\n",
       "  'PIPER',\n",
       "  'PA24-180',\n",
       "  'No',\n",
       "  '1',\n",
       "  'Reciprocating',\n",
       "  '',\n",
       "  '',\n",
       "  'Personal',\n",
       "  '',\n",
       "  '4',\n",
       "  '0',\n",
       "  '0',\n",
       "  '0',\n",
       "  'UNK',\n",
       "  'UNKNOWN',\n",
       "  'Probable Cause',\n",
       "  '09/19/1996',\n",
       "  '']]"
      ]
     },
     "execution_count": 23,
     "metadata": {},
     "output_type": "execute_result"
    }
   ],
   "source": [
    "lax_nr = 'LAX94LA336'\n",
    "\n",
    "def search_codes(lax_code, lst, code, lower, upper):\n",
    "    ind = math.floor((lower + upper) / 2)\n",
    "    if code < lst[ind][2]:\n",
    "        upper = ind\n",
    "        search_codes(lax_code, lst, code, lower, upper)\n",
    "    elif code > lst[ind][2]:\n",
    "        lower = ind\n",
    "        search_codes(lax_code, lst, code, lower, upper)\n",
    "    else:\n",
    "        lax_code.append(lst[ind])\n",
    "    return lax_code\n",
    "lax_code = []\n",
    "lax_code = search_codes(lax_code,sorted_avlst, lax_nr, 0 , len(sorted_avlst))\n",
    "lax_code"
   ]
  },
  {
   "cell_type": "markdown",
   "metadata": {},
   "source": [
    "This is now a searching algorithm that is logarithmic time. The performance benefit is hard to measure in such a small dataset, but it should perform significantly better, especially in a very large dataset."
   ]
  },
  {
   "cell_type": "markdown",
   "metadata": {},
   "source": [
    "## List of Dictionaries:\n",
    "\n",
    "We will now use a list of dictionaries to store our data instead of a list of lists.\n",
    "Every item in the list will be a dictionary containing the column names as keys and the entries of a given row as the values"
   ]
  },
  {
   "cell_type": "code",
   "execution_count": 24,
   "metadata": {},
   "outputs": [],
   "source": [
    "aviation_dict_list = []\n",
    "columns = aviation_list[0]\n",
    "for row in aviation_list[1:]:\n",
    "    dict = {}\n",
    "    for i in range(len(columns)):\n",
    "        dict[columns[i]] = row[i]\n",
    "    aviation_dict_list.append(dict)"
   ]
  },
  {
   "cell_type": "code",
   "execution_count": 25,
   "metadata": {},
   "outputs": [
    {
     "data": {
      "text/plain": [
       "[{'Event Id': '20191123X03127',\n",
       "  'Investigation Type': 'Accident',\n",
       "  'Accident Number': 'GAA20CA094',\n",
       "  'Event Date': '11/23/2019',\n",
       "  'Location': 'Simsbury, CT',\n",
       "  'Country': 'United States',\n",
       "  'Latitude': '41.916111',\n",
       "  'Longitude': '-72.776945',\n",
       "  'Airport Code': '4B9',\n",
       "  'Airport Name': 'Simsbury',\n",
       "  'Injury Severity': 'Unavailable',\n",
       "  'Aircraft Damage': 'Substantial',\n",
       "  'Aircraft Category': 'Airplane',\n",
       "  'Registration Number': 'N5776W',\n",
       "  'Make': 'Piper',\n",
       "  'Model': 'PA28',\n",
       "  'Amateur Built': 'No',\n",
       "  'Number of Engines': '1',\n",
       "  'Engine Type': '',\n",
       "  'FAR Description': 'Part 91: General Aviation',\n",
       "  'Schedule': '',\n",
       "  'Purpose of Flight': 'Instructional',\n",
       "  'Air Carrier': '',\n",
       "  'Total Fatal Injuries': '',\n",
       "  'Total Serious Injuries': '',\n",
       "  'Total Minor Injuries': '',\n",
       "  'Total Uninjured': '',\n",
       "  'Weather Condition': '',\n",
       "  'Broad Phase of Flight': '',\n",
       "  'Report Status': 'Preliminary',\n",
       "  'Publication Date': '11/27/2019',\n",
       "  '': ''},\n",
       " {'Event Id': '20191123X40229',\n",
       "  'Investigation Type': 'Accident',\n",
       "  'Accident Number': 'ERA20LA044',\n",
       "  'Event Date': '11/23/2019',\n",
       "  'Location': 'Okeechobee, FL',\n",
       "  'Country': 'United States',\n",
       "  'Latitude': '27.260556',\n",
       "  'Longitude': '-80.847500',\n",
       "  'Airport Code': 'OBE',\n",
       "  'Airport Name': 'Okeechobee County',\n",
       "  'Injury Severity': 'Non-Fatal',\n",
       "  'Aircraft Damage': 'Destroyed',\n",
       "  'Aircraft Category': 'Airplane',\n",
       "  'Registration Number': 'N3315C',\n",
       "  'Make': 'Beech',\n",
       "  'Model': 'E35',\n",
       "  'Amateur Built': 'No',\n",
       "  'Number of Engines': '1',\n",
       "  'Engine Type': 'Reciprocating',\n",
       "  'FAR Description': 'Part 91: General Aviation',\n",
       "  'Schedule': '',\n",
       "  'Purpose of Flight': 'Personal',\n",
       "  'Air Carrier': '',\n",
       "  'Total Fatal Injuries': '',\n",
       "  'Total Serious Injuries': '1',\n",
       "  'Total Minor Injuries': '2',\n",
       "  'Total Uninjured': '',\n",
       "  'Weather Condition': 'VMC',\n",
       "  'Broad Phase of Flight': 'TAKEOFF',\n",
       "  'Report Status': 'Preliminary',\n",
       "  'Publication Date': '11/27/2019',\n",
       "  '': ''},\n",
       " {'Event Id': '20191120X01106',\n",
       "  'Investigation Type': 'Accident',\n",
       "  'Accident Number': 'CEN20FA019',\n",
       "  'Event Date': '11/20/2019',\n",
       "  'Location': 'San Marcos, TX',\n",
       "  'Country': 'United States',\n",
       "  'Latitude': '29.900000',\n",
       "  'Longitude': '-97.852500',\n",
       "  'Airport Code': 'KHYI',\n",
       "  'Airport Name': 'San Marcos',\n",
       "  'Injury Severity': 'Fatal(1)',\n",
       "  'Aircraft Damage': 'Destroyed',\n",
       "  'Aircraft Category': 'Airplane',\n",
       "  'Registration Number': 'N88855',\n",
       "  'Make': 'RAYTHEON',\n",
       "  'Model': 'A36',\n",
       "  'Amateur Built': 'No',\n",
       "  'Number of Engines': '1',\n",
       "  'Engine Type': 'Reciprocating',\n",
       "  'FAR Description': 'Part 91: General Aviation',\n",
       "  'Schedule': '',\n",
       "  'Purpose of Flight': 'Business',\n",
       "  'Air Carrier': '',\n",
       "  'Total Fatal Injuries': '1',\n",
       "  'Total Serious Injuries': '',\n",
       "  'Total Minor Injuries': '',\n",
       "  'Total Uninjured': '',\n",
       "  'Weather Condition': 'IMC',\n",
       "  'Broad Phase of Flight': 'TAKEOFF',\n",
       "  'Report Status': 'Preliminary',\n",
       "  'Publication Date': '11/26/2019',\n",
       "  '': ''},\n",
       " {'Event Id': '20191121X85648',\n",
       "  'Investigation Type': 'Accident',\n",
       "  'Accident Number': 'GAA20CA090',\n",
       "  'Event Date': '11/19/2019',\n",
       "  'Location': 'Brogue, PA',\n",
       "  'Country': 'United States',\n",
       "  'Latitude': '39.852222',\n",
       "  'Longitude': '-76.486389',\n",
       "  'Airport Code': '9W8',\n",
       "  'Airport Name': 'Baublitz Commercial',\n",
       "  'Injury Severity': 'Unavailable',\n",
       "  'Aircraft Damage': '',\n",
       "  'Aircraft Category': 'Airplane',\n",
       "  'Registration Number': 'N71707',\n",
       "  'Make': 'Luscombe',\n",
       "  'Model': '8',\n",
       "  'Amateur Built': 'No',\n",
       "  'Number of Engines': '',\n",
       "  'Engine Type': '',\n",
       "  'FAR Description': 'Part 91: General Aviation',\n",
       "  'Schedule': '',\n",
       "  'Purpose of Flight': 'Personal',\n",
       "  'Air Carrier': '',\n",
       "  'Total Fatal Injuries': '',\n",
       "  'Total Serious Injuries': '',\n",
       "  'Total Minor Injuries': '',\n",
       "  'Total Uninjured': '',\n",
       "  'Weather Condition': '',\n",
       "  'Broad Phase of Flight': '',\n",
       "  'Report Status': 'Preliminary',\n",
       "  'Publication Date': '11/26/2019',\n",
       "  '': ''},\n",
       " {'Event Id': '20191118X94020',\n",
       "  'Investigation Type': 'Accident',\n",
       "  'Accident Number': 'ERA20LA038',\n",
       "  'Event Date': '11/18/2019',\n",
       "  'Location': 'College Park, MD',\n",
       "  'Country': 'United States',\n",
       "  'Latitude': '38.980556',\n",
       "  'Longitude': '-76.922223',\n",
       "  'Airport Code': 'CGS',\n",
       "  'Airport Name': 'College Park Airport',\n",
       "  'Injury Severity': 'Non-Fatal',\n",
       "  'Aircraft Damage': 'Substantial',\n",
       "  'Aircraft Category': 'Airplane',\n",
       "  'Registration Number': 'N1031M',\n",
       "  'Make': 'Mooney',\n",
       "  'Model': 'M20M',\n",
       "  'Amateur Built': 'No',\n",
       "  'Number of Engines': '1',\n",
       "  'Engine Type': 'Reciprocating',\n",
       "  'FAR Description': 'Part 91: General Aviation',\n",
       "  'Schedule': '',\n",
       "  'Purpose of Flight': 'Personal',\n",
       "  'Air Carrier': '',\n",
       "  'Total Fatal Injuries': '',\n",
       "  'Total Serious Injuries': '',\n",
       "  'Total Minor Injuries': '',\n",
       "  'Total Uninjured': '1',\n",
       "  'Weather Condition': 'VMC',\n",
       "  'Broad Phase of Flight': '',\n",
       "  'Report Status': 'Preliminary',\n",
       "  'Publication Date': '11/26/2019',\n",
       "  '': ''}]"
      ]
     },
     "execution_count": 25,
     "metadata": {},
     "output_type": "execute_result"
    }
   ],
   "source": [
    "aviation_dict_list[:5]"
   ]
  },
  {
   "cell_type": "markdown",
   "metadata": {},
   "source": [
    "Searching for our LAX entry"
   ]
  },
  {
   "cell_type": "code",
   "execution_count": 26,
   "metadata": {},
   "outputs": [],
   "source": [
    "lax_dict = []\n",
    "for item in aviation_dict_list:\n",
    "    if item['Accident Number'] == 'LAX94LA336':\n",
    "        lax_dict.append(item)"
   ]
  },
  {
   "cell_type": "code",
   "execution_count": 27,
   "metadata": {},
   "outputs": [
    {
     "data": {
      "text/plain": [
       "[{'Event Id': '20001218X45447',\n",
       "  'Investigation Type': 'Accident',\n",
       "  'Accident Number': 'LAX94LA336',\n",
       "  'Event Date': '07/19/1962',\n",
       "  'Location': 'BRIDGEPORT, CA',\n",
       "  'Country': 'United States',\n",
       "  'Latitude': '',\n",
       "  'Longitude': '',\n",
       "  'Airport Code': '',\n",
       "  'Airport Name': '',\n",
       "  'Injury Severity': 'Fatal(4)',\n",
       "  'Aircraft Damage': 'Destroyed',\n",
       "  'Aircraft Category': '',\n",
       "  'Registration Number': 'N5069P',\n",
       "  'Make': 'PIPER',\n",
       "  'Model': 'PA24-180',\n",
       "  'Amateur Built': 'No',\n",
       "  'Number of Engines': '1',\n",
       "  'Engine Type': 'Reciprocating',\n",
       "  'FAR Description': '',\n",
       "  'Schedule': '',\n",
       "  'Purpose of Flight': 'Personal',\n",
       "  'Air Carrier': '',\n",
       "  'Total Fatal Injuries': '4',\n",
       "  'Total Serious Injuries': '0',\n",
       "  'Total Minor Injuries': '0',\n",
       "  'Total Uninjured': '0',\n",
       "  'Weather Condition': 'UNK',\n",
       "  'Broad Phase of Flight': 'UNKNOWN',\n",
       "  'Report Status': 'Probable Cause',\n",
       "  'Publication Date': '09/19/1996',\n",
       "  '': ''}]"
      ]
     },
     "execution_count": 27,
     "metadata": {},
     "output_type": "execute_result"
    }
   ],
   "source": [
    "lax_dict"
   ]
  },
  {
   "cell_type": "markdown",
   "metadata": {},
   "source": [
    "searching through the dictionary was pretty much the same as searching through a list. The only thing needed was to replace the column index with a key."
   ]
  },
  {
   "cell_type": "markdown",
   "metadata": {},
   "source": [
    "## Accidents by US state:\n",
    "\n",
    "Now we will find out how many accidents happened in which US state."
   ]
  },
  {
   "cell_type": "code",
   "execution_count": 28,
   "metadata": {},
   "outputs": [],
   "source": [
    "nloc_dict = {}\n",
    "for dict in aviation_dict_list[:]:\n",
    "    if dict['Country'] == 'United States':\n",
    "        state = dict['Location'].split(',')[-1].strip()\n",
    "        if state in nloc_dict:\n",
    "            nloc_dict[state] += 1\n",
    "        else:\n",
    "            nloc_dict[state] = 1"
   ]
  },
  {
   "cell_type": "code",
   "execution_count": 29,
   "metadata": {},
   "outputs": [],
   "source": [
    "def inef_sort_dict(dict):\n",
    "    t0 = time.time()    \n",
    "    newer_sort = []\n",
    "    for key in dict:\n",
    "        # for first item\n",
    "        if len(newer_sort)==0:\n",
    "            newer_sort.append([key, dict[key]])\n",
    "        # for items higher or lower than the maximum, minimum in list\n",
    "        elif dict[key] < newer_sort[-1][1]:\n",
    "            newer_sort.append([key, dict[key]])\n",
    "        elif dict[key] > newer_sort[0][1]:\n",
    "            newer_sort.insert(0, [key, dict[key]])\n",
    "        # All items in the middle\n",
    "        else:\n",
    "            i = 0\n",
    "            for entry in newer_sort:\n",
    "                if dict[key] < entry[1]:\n",
    "                    i += 1\n",
    "            newer_sort.insert(i, [key, dict[key]])\n",
    "#             print('middle')\n",
    "#             print(newer_sort)\n",
    "    dt = time.time()-t0\n",
    "    return dt, newer_sort"
   ]
  },
  {
   "cell_type": "code",
   "execution_count": 30,
   "metadata": {},
   "outputs": [
    {
     "data": {
      "text/plain": [
       "[['CA', 8578],\n",
       " ['TX', 5591],\n",
       " ['FL', 5577],\n",
       " ['AK', 5430],\n",
       " ['AZ', 2711],\n",
       " ['CO', 2603],\n",
       " ['WA', 2515],\n",
       " ['IL', 1991],\n",
       " ['MI', 1964],\n",
       " ['GA', 1913],\n",
       " ['NY', 1847],\n",
       " ['OH', 1746],\n",
       " ['PA', 1705],\n",
       " ['OR', 1691],\n",
       " ['NC', 1561],\n",
       " ['MO', 1508],\n",
       " ['WI', 1500],\n",
       " ['AR', 1465],\n",
       " ['MN', 1396],\n",
       " ['ID', 1349],\n",
       " ['NM', 1319],\n",
       " ['UT', 1267],\n",
       " ['IN', 1264],\n",
       " ['VA', 1224],\n",
       " ['OK', 1184],\n",
       " ['NV', 1182],\n",
       " ['LA', 1154],\n",
       " ['NJ', 1139],\n",
       " ['AL', 1105],\n",
       " ['KS', 1062],\n",
       " ['TN', 1036],\n",
       " ['MT', 999],\n",
       " ['MA', 939],\n",
       " ['SC', 921],\n",
       " ['MS', 784],\n",
       " ['IA', 783],\n",
       " ['MD', 782],\n",
       " ['WY', 712],\n",
       " ['NE', 692],\n",
       " ['KY', 618],\n",
       " ['ND', 542],\n",
       " ['ME', 488],\n",
       " ['CT', 487],\n",
       " ['HI', 476],\n",
       " ['SD', 429],\n",
       " ['WV', 385],\n",
       " ['NH', 352],\n",
       " ['VT', 234],\n",
       " ['RI', 156],\n",
       " ['DE', 110],\n",
       " ['PR', 104],\n",
       " ['GM', 66],\n",
       " ['DC', 44],\n",
       " ['', 28],\n",
       " ['GU', 17],\n",
       " ['VI', 15],\n",
       " ['AO', 13],\n",
       " ['PO', 12],\n",
       " ['MP', 6],\n",
       " ['UN', 3],\n",
       " ['ON', 1],\n",
       " ['MH', 1],\n",
       " ['FN', 1]]"
      ]
     },
     "execution_count": 30,
     "metadata": {},
     "output_type": "execute_result"
    }
   ],
   "source": [
    "state_accidents = inef_sort_dict(nloc_dict)[1]\n",
    "state_accidents"
   ]
  },
  {
   "cell_type": "markdown",
   "metadata": {},
   "source": [
    "The US state with the largest ammount of accidents is California in it 8578 accidents in total have been recorded"
   ]
  },
  {
   "cell_type": "markdown",
   "metadata": {},
   "source": [
    "## Monthly injuries\n",
    "\n",
    "Now we will create a sorted list of the number of serious injuries that occur in each unique month of the year"
   ]
  },
  {
   "cell_type": "code",
   "execution_count": 31,
   "metadata": {},
   "outputs": [
    {
     "data": {
      "text/plain": [
       "{'Event Id': '20191123X40229',\n",
       " 'Investigation Type': 'Accident',\n",
       " 'Accident Number': 'ERA20LA044',\n",
       " 'Event Date': '11/23/2019',\n",
       " 'Location': 'Okeechobee, FL',\n",
       " 'Country': 'United States',\n",
       " 'Latitude': '27.260556',\n",
       " 'Longitude': '-80.847500',\n",
       " 'Airport Code': 'OBE',\n",
       " 'Airport Name': 'Okeechobee County',\n",
       " 'Injury Severity': 'Non-Fatal',\n",
       " 'Aircraft Damage': 'Destroyed',\n",
       " 'Aircraft Category': 'Airplane',\n",
       " 'Registration Number': 'N3315C',\n",
       " 'Make': 'Beech',\n",
       " 'Model': 'E35',\n",
       " 'Amateur Built': 'No',\n",
       " 'Number of Engines': '1',\n",
       " 'Engine Type': 'Reciprocating',\n",
       " 'FAR Description': 'Part 91: General Aviation',\n",
       " 'Schedule': '',\n",
       " 'Purpose of Flight': 'Personal',\n",
       " 'Air Carrier': '',\n",
       " 'Total Fatal Injuries': '',\n",
       " 'Total Serious Injuries': '1',\n",
       " 'Total Minor Injuries': '2',\n",
       " 'Total Uninjured': '',\n",
       " 'Weather Condition': 'VMC',\n",
       " 'Broad Phase of Flight': 'TAKEOFF',\n",
       " 'Report Status': 'Preliminary',\n",
       " 'Publication Date': '11/27/2019',\n",
       " '': ''}"
      ]
     },
     "execution_count": 31,
     "metadata": {},
     "output_type": "execute_result"
    }
   ],
   "source": [
    "aviation_dict_list[1]"
   ]
  },
  {
   "cell_type": "code",
   "execution_count": 32,
   "metadata": {},
   "outputs": [],
   "source": [
    "nmo_dict = {}\n",
    "for dict in aviation_dict_list[:]:\n",
    "    month = dict['Event Date'].split('/')[0].split(',')[-1].strip()\n",
    "    if month in nmo_dict:\n",
    "        nmo_dict[month] += 1\n",
    "    else:\n",
    "        nmo_dict[month] = 1"
   ]
  },
  {
   "cell_type": "code",
   "execution_count": 33,
   "metadata": {},
   "outputs": [
    {
     "data": {
      "text/plain": [
       "5205"
      ]
     },
     "execution_count": 33,
     "metadata": {},
     "output_type": "execute_result"
    }
   ],
   "source": [
    "nmo_dict['11']"
   ]
  },
  {
   "cell_type": "code",
   "execution_count": 34,
   "metadata": {},
   "outputs": [
    {
     "data": {
      "text/plain": [
       "(0.0,\n",
       " [['07', 10125],\n",
       "  ['08', 9509],\n",
       "  ['06', 9066],\n",
       "  ['05', 8125],\n",
       "  ['09', 7869],\n",
       "  ['04', 6911],\n",
       "  ['10', 6568],\n",
       "  ['03', 6346],\n",
       "  ['11', 5205],\n",
       "  ['02', 4969],\n",
       "  ['12', 4762],\n",
       "  ['01', 4716]])"
      ]
     },
     "execution_count": 34,
     "metadata": {},
     "output_type": "execute_result"
    }
   ],
   "source": [
    "month_accidents = inef_sort_dict(nmo_dict)\n",
    "month_accidents"
   ]
  },
  {
   "cell_type": "markdown",
   "metadata": {},
   "source": [
    "This means most accidents happen in July for some reason. Probably more cheap airlines flying to holiday locations. But the actual goal was to find out the total ammount of serious injuries and fatalities per month. This is very similar to what we have already done"
   ]
  },
  {
   "cell_type": "code",
   "execution_count": 35,
   "metadata": {},
   "outputs": [],
   "source": [
    "ninjmo_dict = {}\n",
    "for dict in aviation_dict_list[:]:\n",
    "    month = dict['Event Date'].split('/')[0].split(',')[-1].strip()\n",
    "    if (dict['Total Fatal Injuries'] != '') and (dict['Total Serious Injuries'] != ''):\n",
    "        if month in ninjmo_dict:\n",
    "            ninjmo_dict[month] += int(dict['Total Fatal Injuries']) + int(dict['Total Serious Injuries'])\n",
    "        else:\n",
    "            ninjmo_dict[month] = int(dict['Total Fatal Injuries']) + int(dict['Total Serious Injuries'])"
   ]
  },
  {
   "cell_type": "code",
   "execution_count": 36,
   "metadata": {},
   "outputs": [
    {
     "data": {
      "text/plain": [
       "(0.0,\n",
       " [['08', 5007],\n",
       "  ['07', 4579],\n",
       "  ['12', 3773],\n",
       "  ['09', 3457],\n",
       "  ['06', 3415],\n",
       "  ['05', 3413],\n",
       "  ['10', 3367],\n",
       "  ['04', 2935],\n",
       "  ['01', 2841],\n",
       "  ['02', 2829],\n",
       "  ['11', 2813],\n",
       "  ['03', 2543]])"
      ]
     },
     "execution_count": 36,
     "metadata": {},
     "output_type": "execute_result"
    }
   ],
   "source": [
    "inef_sort_dict(ninjmo_dict)"
   ]
  },
  {
   "cell_type": "markdown",
   "metadata": {},
   "source": [
    "The largest ammount of fatalities is still in the summer, but it is now in August. A an additional possible explanation for this could be glider pilots or other small sports aircraft crashing. These fly predominantly in the summer."
   ]
  },
  {
   "cell_type": "markdown",
   "metadata": {},
   "source": [
    "This is the end of this guided project. The main focus here was on the difference in expense between different types of algorithms. It was very inderesting to see, how much more effective a logarithmic sorting algorithm was than a linear one, as was constructing these different algorithms in the first place."
   ]
  }
 ],
 "metadata": {
  "kernelspec": {
   "display_name": "Python 3",
   "language": "python",
   "name": "python3"
  },
  "language_info": {
   "codemirror_mode": {
    "name": "ipython",
    "version": 3
   },
   "file_extension": ".py",
   "mimetype": "text/x-python",
   "name": "python",
   "nbconvert_exporter": "python",
   "pygments_lexer": "ipython3",
   "version": "3.7.6"
  }
 },
 "nbformat": 4,
 "nbformat_minor": 2
}
